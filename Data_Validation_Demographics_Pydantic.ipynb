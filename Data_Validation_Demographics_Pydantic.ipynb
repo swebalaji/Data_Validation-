{
 "cells": [
  {
   "cell_type": "code",
   "execution_count": 1,
   "id": "4d6c2336-0ced-4463-bae1-511cad2590fc",
   "metadata": {},
   "outputs": [
    {
     "name": "stdout",
     "output_type": "stream",
     "text": [
      "Defaulting to user installation because normal site-packages is not writeableNote: you may need to restart the kernel to use updated packages.\n",
      "\n",
      "Requirement already satisfied: pydantic in c:\\programdata\\anaconda3\\lib\\site-packages (2.8.2)\n",
      "Requirement already satisfied: annotated-types>=0.4.0 in c:\\programdata\\anaconda3\\lib\\site-packages (from pydantic) (0.6.0)\n",
      "Requirement already satisfied: pydantic-core==2.20.1 in c:\\programdata\\anaconda3\\lib\\site-packages (from pydantic) (2.20.1)\n",
      "Requirement already satisfied: typing-extensions>=4.6.1 in c:\\programdata\\anaconda3\\lib\\site-packages (from pydantic) (4.11.0)\n"
     ]
    }
   ],
   "source": [
    "pip install pydantic"
   ]
  },
  {
   "cell_type": "code",
   "execution_count": 4,
   "id": "41d3de9a-1db7-4a59-b998-c3e4709f24a9",
   "metadata": {},
   "outputs": [],
   "source": [
    "#Importing all neccessary libraries \n",
    "pip install pydantic\n",
    "from enum import Enum\n",
    "from pydantic import BaseModel, Field, field_validator, model_validator,computed_field\n",
    "\n",
    "#checking if gender is either male or Female\n",
    "class SexEnum(str, Enum):\n",
    "    MALE = \"Male\"\n",
    "    FEMALE = \"Female\"\n",
    "\n",
    "#Main class for evaluating Demographic data\n",
    "class Demographics(BaseModel):\n",
    "    #checking if subject id is greater than 0\n",
    "    subject_id: int = Field(..., gt=0, description=\"Unique subject ID (must have at least 8 digits)\")\n",
    "    #checking of age is greater than 0 but less than equal to 120 \n",
    "    age: int = Field(..., ge=0, le=120, description=\"Age in years\")\n",
    "    #checking if sex is male or female only\n",
    "    sex: SexEnum = Field(..., description=\"Sex: Male or Female only\")\n",
    "    #checking of racial group is min length is 2 and max length is 50\n",
    "    race: str = Field(..., min_length=2, max_length=50, description=\"Racial group\")\n",
    "    #checking if ethicity is more than 2 but less than 50 , if value not present then american is default value\n",
    "    ethnicity: str = Field(default=\"American\", min_length=2, max_length=50, description=\"Ethnic category\")\n",
    "    #checking if weight falls between 1 and 500\n",
    "    weight_kg: float = Field(..., gt=0, lt=500, description=\"Weight in kilograms\")\n",
    "    #checking if height falls between 1 and 300\n",
    "    height_cm: float = Field(..., gt=0, lt=300, description=\"Height in centimeters\")\n",
    "    #checking if bmi falls between 6 and 59 \n",
    "    bmi: float = Field(..., gt=5, lt=60, description=\"Body Mass Index (kg/m²)\")\n",
    "    \n",
    "    #validating if subject id is greater than len 8 else we are raising an error\n",
    "    @field_validator('subject_id')\n",
    "    @classmethod\n",
    "    def validate_subject_id_length(cls, v):\n",
    "        if len(str(v)) < 8:\n",
    "            raise ValueError(\"subject_id must be at least 8 digits long\")\n",
    "        return v\n",
    "\n",
    "    #checking if gender is string type and making it case insensitive\n",
    "    @field_validator('sex', mode='before')\n",
    "    @classmethod\n",
    "    def validate_sex_case_insensitive(cls, v):\n",
    "        if isinstance(v, str):\n",
    "            v = v.strip().capitalize()\n",
    "        try:\n",
    "            return SexEnum(v)\n",
    "        except ValueError:\n",
    "            raise ValueError(\"Sex must be 'Male' or 'Female'\")\n",
    "\n",
    "   \n",
    "    #returning the category of BMI and adding to final output    \n",
    "    @computed_field\n",
    "    @property\n",
    "    def bmi_category(self) -> str:\n",
    "        if self.bmi < 18.5:\n",
    "            return \"Underweight\"\n",
    "        elif 18.5 <= self.bmi < 25:\n",
    "            return \"Normal\"\n",
    "        else:\n",
    "            return \"Overweight\"\n",
    "            \n",
    "    #returning the expected BMI Based on height and weight          \n",
    "    @computed_field\n",
    "    @property\n",
    "    def actual_bmi(self) -> float:\n",
    "        height_m = self.height_cm / 100\n",
    "        return round(self.weight_kg / (height_m ** 2), 1)\n",
    "\n"
   ]
  },
  {
   "cell_type": "code",
   "execution_count": 5,
   "id": "323dda9f-e277-4c52-a065-e06e4ad86c0e",
   "metadata": {},
   "outputs": [
    {
     "name": "stdout",
     "output_type": "stream",
     "text": [
      "{'subject_id': 10011004, 'age': 33, 'sex': <SexEnum.FEMALE: 'Female'>, 'race': 'Japanese', 'ethnicity': 'American', 'weight_kg': 56.0, 'height_cm': 156.0, 'bmi': 21.0, 'bmi_category': 'Normal', 'actual_bmi': 23.0}\n"
     ]
    }
   ],
   "source": [
    "data = {\n",
    "    \"subject_id\": 10011004,\n",
    "    \"age\": 33,\n",
    "    \"sex\": \"FEMALE\",\n",
    "    \"race\": \"Japanese\",\n",
    "    # Ethnicity not provided → defaults to \"American\"\n",
    "    \"weight_kg\":56 ,\n",
    "    \"height_cm\": 156,\n",
    "    \"bmi\":21.0\n",
    "}\n",
    "\n",
    "demo = Demographics(**data)\n",
    "print(demo.model_dump())  # expected_bmi will be included!\n",
    "\n"
   ]
  },
  {
   "cell_type": "code",
   "execution_count": 8,
   "id": "9d9c3203-050a-4061-885b-1b5341b4be54",
   "metadata": {},
   "outputs": [
    {
     "name": "stdout",
     "output_type": "stream",
     "text": [
      "{'subject_id': 10011004, 'age': 33, 'sex': <SexEnum.FEMALE: 'Female'>, 'race': 'Japanese', 'ethnicity': 'American', 'weight_kg': 56.0, 'height_cm': 156.0, 'bmi': 21.0, 'bmi_category': 'Normal', 'actual_bmi': 23.0}\n"
     ]
    }
   ],
   "source": [
    "data = {\n",
    "    \"subject_id\": 10011004,\n",
    "    \"age\": 33,\n",
    "    \"sex\": \"FEMALE\",\n",
    "    \"race\": \"Japanese\",\n",
    "    \"Ethnicity\": \"\",\n",
    "    \"weight_kg\":56 ,\n",
    "    \"height_cm\": 156,\n",
    "    \"bmi\":21.0\n",
    "}\n",
    "\n",
    "demo = Demographics(**data)\n",
    "print(demo.model_dump())  # expected_bmi will be included!"
   ]
  },
  {
   "cell_type": "code",
   "execution_count": 9,
   "id": "c1cb492e-dd78-4142-970f-22fb361917dc",
   "metadata": {},
   "outputs": [
    {
     "ename": "ValidationError",
     "evalue": "1 validation error for Demographics\nsubject_id\n  Value error, subject_id must be at least 8 digits long [type=value_error, input_value=1, input_type=int]\n    For further information visit https://errors.pydantic.dev/2.8/v/value_error",
     "output_type": "error",
     "traceback": [
      "\u001b[1;31m---------------------------------------------------------------------------\u001b[0m",
      "\u001b[1;31mValidationError\u001b[0m                           Traceback (most recent call last)",
      "Cell \u001b[1;32mIn[9], line 12\u001b[0m\n\u001b[0;32m      1\u001b[0m data \u001b[38;5;241m=\u001b[39m {\n\u001b[0;32m      2\u001b[0m     \u001b[38;5;124m\"\u001b[39m\u001b[38;5;124msubject_id\u001b[39m\u001b[38;5;124m\"\u001b[39m: \u001b[38;5;241m1\u001b[39m,\n\u001b[0;32m      3\u001b[0m     \u001b[38;5;124m\"\u001b[39m\u001b[38;5;124mage\u001b[39m\u001b[38;5;124m\"\u001b[39m: \u001b[38;5;241m33\u001b[39m,\n\u001b[1;32m   (...)\u001b[0m\n\u001b[0;32m      9\u001b[0m     \u001b[38;5;124m\"\u001b[39m\u001b[38;5;124mbmi\u001b[39m\u001b[38;5;124m\"\u001b[39m:\u001b[38;5;241m21.0\u001b[39m\n\u001b[0;32m     10\u001b[0m }\n\u001b[1;32m---> 12\u001b[0m demo \u001b[38;5;241m=\u001b[39m Demographics(\u001b[38;5;241m*\u001b[39m\u001b[38;5;241m*\u001b[39mdata)\n\u001b[0;32m     13\u001b[0m \u001b[38;5;28mprint\u001b[39m(demo\u001b[38;5;241m.\u001b[39mmodel_dump())\n",
      "File \u001b[1;32mC:\\ProgramData\\anaconda3\\Lib\\site-packages\\pydantic\\main.py:193\u001b[0m, in \u001b[0;36mBaseModel.__init__\u001b[1;34m(self, **data)\u001b[0m\n\u001b[0;32m    191\u001b[0m \u001b[38;5;66;03m# `__tracebackhide__` tells pytest and some other tools to omit this function from tracebacks\u001b[39;00m\n\u001b[0;32m    192\u001b[0m __tracebackhide__ \u001b[38;5;241m=\u001b[39m \u001b[38;5;28;01mTrue\u001b[39;00m\n\u001b[1;32m--> 193\u001b[0m \u001b[38;5;28mself\u001b[39m\u001b[38;5;241m.\u001b[39m__pydantic_validator__\u001b[38;5;241m.\u001b[39mvalidate_python(data, self_instance\u001b[38;5;241m=\u001b[39m\u001b[38;5;28mself\u001b[39m)\n",
      "\u001b[1;31mValidationError\u001b[0m: 1 validation error for Demographics\nsubject_id\n  Value error, subject_id must be at least 8 digits long [type=value_error, input_value=1, input_type=int]\n    For further information visit https://errors.pydantic.dev/2.8/v/value_error"
     ]
    }
   ],
   "source": [
    "data = {\n",
    "    \"subject_id\": 1,\n",
    "    \"age\": 33,\n",
    "    \"sex\": \"FEMALE\",\n",
    "    \"race\": \"Japanese\",\n",
    "    \"Ethnicity\": \"\",\n",
    "    \"weight_kg\":56 ,\n",
    "    \"height_cm\": 156,\n",
    "    \"bmi\":21.0\n",
    "}\n",
    "\n",
    "demo = Demographics(**data)\n",
    "print(demo.model_dump())  # expected_bmi will be included!"
   ]
  },
  {
   "cell_type": "code",
   "execution_count": 10,
   "id": "37fcbb73-0019-4fa8-aae8-71eb10a652e3",
   "metadata": {},
   "outputs": [
    {
     "ename": "ValidationError",
     "evalue": "1 validation error for Demographics\nsex\n  Value error, Sex must be 'Male' or 'Female' [type=value_error, input_value='Others', input_type=str]\n    For further information visit https://errors.pydantic.dev/2.8/v/value_error",
     "output_type": "error",
     "traceback": [
      "\u001b[1;31m---------------------------------------------------------------------------\u001b[0m",
      "\u001b[1;31mValidationError\u001b[0m                           Traceback (most recent call last)",
      "Cell \u001b[1;32mIn[10], line 12\u001b[0m\n\u001b[0;32m      1\u001b[0m data \u001b[38;5;241m=\u001b[39m {\n\u001b[0;32m      2\u001b[0m     \u001b[38;5;124m\"\u001b[39m\u001b[38;5;124msubject_id\u001b[39m\u001b[38;5;124m\"\u001b[39m: \u001b[38;5;241m10011004\u001b[39m,\n\u001b[0;32m      3\u001b[0m     \u001b[38;5;124m\"\u001b[39m\u001b[38;5;124mage\u001b[39m\u001b[38;5;124m\"\u001b[39m: \u001b[38;5;241m33\u001b[39m,\n\u001b[1;32m   (...)\u001b[0m\n\u001b[0;32m      9\u001b[0m     \u001b[38;5;124m\"\u001b[39m\u001b[38;5;124mbmi\u001b[39m\u001b[38;5;124m\"\u001b[39m:\u001b[38;5;241m21.0\u001b[39m\n\u001b[0;32m     10\u001b[0m }\n\u001b[1;32m---> 12\u001b[0m demo \u001b[38;5;241m=\u001b[39m Demographics(\u001b[38;5;241m*\u001b[39m\u001b[38;5;241m*\u001b[39mdata)\n\u001b[0;32m     13\u001b[0m \u001b[38;5;28mprint\u001b[39m(demo\u001b[38;5;241m.\u001b[39mmodel_dump())\n",
      "File \u001b[1;32mC:\\ProgramData\\anaconda3\\Lib\\site-packages\\pydantic\\main.py:193\u001b[0m, in \u001b[0;36mBaseModel.__init__\u001b[1;34m(self, **data)\u001b[0m\n\u001b[0;32m    191\u001b[0m \u001b[38;5;66;03m# `__tracebackhide__` tells pytest and some other tools to omit this function from tracebacks\u001b[39;00m\n\u001b[0;32m    192\u001b[0m __tracebackhide__ \u001b[38;5;241m=\u001b[39m \u001b[38;5;28;01mTrue\u001b[39;00m\n\u001b[1;32m--> 193\u001b[0m \u001b[38;5;28mself\u001b[39m\u001b[38;5;241m.\u001b[39m__pydantic_validator__\u001b[38;5;241m.\u001b[39mvalidate_python(data, self_instance\u001b[38;5;241m=\u001b[39m\u001b[38;5;28mself\u001b[39m)\n",
      "\u001b[1;31mValidationError\u001b[0m: 1 validation error for Demographics\nsex\n  Value error, Sex must be 'Male' or 'Female' [type=value_error, input_value='Others', input_type=str]\n    For further information visit https://errors.pydantic.dev/2.8/v/value_error"
     ]
    }
   ],
   "source": [
    "data = {\n",
    "    \"subject_id\": 10011004,\n",
    "    \"age\": 33,\n",
    "    \"sex\": \"Others\",\n",
    "    \"race\": \"Japanese\",\n",
    "    \"Ethnicity\": \"\",\n",
    "    \"weight_kg\":56 ,\n",
    "    \"height_cm\": 156,\n",
    "    \"bmi\":21.0\n",
    "}\n",
    "\n",
    "demo = Demographics(**data)\n",
    "print(demo.model_dump())"
   ]
  },
  {
   "cell_type": "code",
   "execution_count": null,
   "id": "7649fe3e-6079-49bf-a3b9-e4217024bb65",
   "metadata": {},
   "outputs": [],
   "source": []
  }
 ],
 "metadata": {
  "kernelspec": {
   "display_name": "Python 3 (ipykernel)",
   "language": "python",
   "name": "python3"
  },
  "language_info": {
   "codemirror_mode": {
    "name": "ipython",
    "version": 3
   },
   "file_extension": ".py",
   "mimetype": "text/x-python",
   "name": "python",
   "nbconvert_exporter": "python",
   "pygments_lexer": "ipython3",
   "version": "3.12.7"
  }
 },
 "nbformat": 4,
 "nbformat_minor": 5
}
